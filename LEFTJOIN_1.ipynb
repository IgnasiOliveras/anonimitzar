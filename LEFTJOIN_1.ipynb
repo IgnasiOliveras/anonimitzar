{
  "nbformat": 4,
  "nbformat_minor": 0,
  "metadata": {
    "colab": {
      "provenance": [],
      "authorship_tag": "ABX9TyMXRc4PahGETu9G0FAJ6h+6",
      "include_colab_link": true
    },
    "kernelspec": {
      "name": "python3",
      "display_name": "Python 3"
    },
    "language_info": {
      "name": "python"
    }
  },
  "cells": [
    {
      "cell_type": "markdown",
      "metadata": {
        "id": "view-in-github",
        "colab_type": "text"
      },
      "source": [
        "<a href=\"https://colab.research.google.com/github/IgnasiOliveras/anonimitzar/blob/main/LEFTJOIN_1.ipynb\" target=\"_parent\"><img src=\"https://colab.research.google.com/assets/colab-badge.svg\" alt=\"Open In Colab\"/></a>"
      ]
    },
    {
      "cell_type": "code",
      "source": [
        "import pandas as pd\n",
        "\n",
        "# Cargar la hoja \"Export\" del archivo 30.01.25_Uic.xlsx\n",
        "df_principal = pd.read_excel('/content/30.01.25 Uic.xlsx', sheet_name='Export')\n",
        "\n",
        "# Cargar el archivo de tipificaciones (CSV)\n",
        "df_tipificaciones = pd.read_excel('/content/20.02.25TipificacionesConversaciones.xlsx')\n",
        "\n",
        "# Realizar el LEFT JOIN\n",
        "df_merged = pd.merge(\n",
        "    df_principal,\n",
        "    df_tipificaciones,\n",
        "    how='left',\n",
        "    left_on=['OpenchannelInteractionId', 'ContactId'],\n",
        "    right_on=['id', 'ContactId']\n",
        ")\n",
        "\n",
        "# Verificar el resultado\n",
        "print(df_merged.head())\n",
        "\n",
        "# Guardar el resultado en un nuevo archivo CSV (opcional)\n",
        "df_merged.to_csv('resultado_left_join.csv', index=False)\n"
      ],
      "metadata": {
        "id": "0SJT-ORMU1WN"
      },
      "execution_count": null,
      "outputs": []
    },
    {
      "cell_type": "code",
      "source": [
        "print(f\"Filas en df_principal: {len(df_principal)}\")\n",
        "print(f\"Filas en df_merged: {len(df_merged)}\")\n",
        "print(df_merged.isnull().sum())  # Verifica cuántos valores nulos hay por columna\n"
      ],
      "metadata": {
        "colab": {
          "base_uri": "https://localhost:8080/"
        },
        "id": "tCBqobYuVt6V",
        "outputId": "c9f6d52d-ad5c-4268-9eab-beae400c5b61"
      },
      "execution_count": 18,
      "outputs": [
        {
          "output_type": "stream",
          "name": "stdout",
          "text": [
            "Filas en df_principal: 6943\n",
            "Filas en df_merged: 6943\n",
            "id_x                           0\n",
            "body                           0\n",
            "read                           0\n",
            "secret                         0\n",
            "direction                      0\n",
            "readAt                      3516\n",
            "providerName                6943\n",
            "providerResponse            6943\n",
            "createdAt                      0\n",
            "updatedAt                      0\n",
            "OpenchannelAccountId           0\n",
            "OpenchannelInteractionId       0\n",
            "UserId                       361\n",
            "ContactId                      0\n",
            "AttachmentId                6943\n",
            "integrationId               6943\n",
            "parentIntegrationId         6943\n",
            "sentBy                      6943\n",
            "id_y                           0\n",
            "closed                         0\n",
            "closedAt                       0\n",
            "disposition                  119\n",
            "note                        3199\n",
            "dtype: int64\n"
          ]
        }
      ]
    },
    {
      "cell_type": "code",
      "source": [
        "df_no_match = df_merged[df_merged['UserId'].isnull()]\n",
        "print(df_no_match.head(300))  # Muestra filas sin coincidencia\n",
        "df_no_match_1 = df_merged[df_merged['disposition'].isnull()]\n",
        "print(df_no_match_1.head(300))  # Muestra filas sin coincidencia"
      ],
      "metadata": {
        "id": "Sm9zqnasWOmV"
      },
      "execution_count": null,
      "outputs": []
    },
    {
      "cell_type": "markdown",
      "source": [
        "LEFT JOIN"
      ],
      "metadata": {
        "id": "nVoH1IPAXsv-"
      }
    },
    {
      "cell_type": "code",
      "source": [
        "import pandas as pd\n",
        "\n",
        "# 1️⃣ Cargar el archivo resultado del primer JOIN\n",
        "df_merged1 = pd.read_csv('/content/resultado_left_join.csv')\n",
        "\n",
        "# 2️⃣ Cargar el archivo de Fichas CRM (suponiendo que es Excel)\n",
        "df_fichas_crm = pd.read_excel('/content/20.02.25FichasCrm.xlsx')  # Ajusta el número de hoja si es necesario\n",
        "\n",
        "\n"
      ],
      "metadata": {
        "colab": {
          "base_uri": "https://localhost:8080/",
          "height": 356
        },
        "id": "fZFY1I5cX1Zm",
        "outputId": "8c373948-bef3-4f26-e5bf-21fb83280a9c"
      },
      "execution_count": 17,
      "outputs": [
        {
          "output_type": "error",
          "ename": "KeyError",
          "evalue": "'ContactId'",
          "traceback": [
            "\u001b[0;31m---------------------------------------------------------------------------\u001b[0m",
            "\u001b[0;31mKeyError\u001b[0m                                  Traceback (most recent call last)",
            "\u001b[0;32m<ipython-input-17-cace8df7e61e>\u001b[0m in \u001b[0;36m<cell line: 0>\u001b[0;34m()\u001b[0m\n\u001b[1;32m     21\u001b[0m \u001b[0;34m\u001b[0m\u001b[0m\n\u001b[1;32m     22\u001b[0m \u001b[0;31m# 5️⃣ Hacer el LEFT JOIN\u001b[0m\u001b[0;34m\u001b[0m\u001b[0;34m\u001b[0m\u001b[0m\n\u001b[0;32m---> 23\u001b[0;31m df_final = pd.merge(\n\u001b[0m\u001b[1;32m     24\u001b[0m     \u001b[0mdf_merged1\u001b[0m\u001b[0;34m,\u001b[0m\u001b[0;34m\u001b[0m\u001b[0;34m\u001b[0m\u001b[0m\n\u001b[1;32m     25\u001b[0m     \u001b[0mdf_fichas_crm\u001b[0m\u001b[0;34m,\u001b[0m\u001b[0;34m\u001b[0m\u001b[0;34m\u001b[0m\u001b[0m\n",
            "\u001b[0;32m/usr/local/lib/python3.11/dist-packages/pandas/core/reshape/merge.py\u001b[0m in \u001b[0;36mmerge\u001b[0;34m(left, right, how, on, left_on, right_on, left_index, right_index, sort, suffixes, copy, indicator, validate)\u001b[0m\n\u001b[1;32m    168\u001b[0m         )\n\u001b[1;32m    169\u001b[0m     \u001b[0;32melse\u001b[0m\u001b[0;34m:\u001b[0m\u001b[0;34m\u001b[0m\u001b[0;34m\u001b[0m\u001b[0m\n\u001b[0;32m--> 170\u001b[0;31m         op = _MergeOperation(\n\u001b[0m\u001b[1;32m    171\u001b[0m             \u001b[0mleft_df\u001b[0m\u001b[0;34m,\u001b[0m\u001b[0;34m\u001b[0m\u001b[0;34m\u001b[0m\u001b[0m\n\u001b[1;32m    172\u001b[0m             \u001b[0mright_df\u001b[0m\u001b[0;34m,\u001b[0m\u001b[0;34m\u001b[0m\u001b[0;34m\u001b[0m\u001b[0m\n",
            "\u001b[0;32m/usr/local/lib/python3.11/dist-packages/pandas/core/reshape/merge.py\u001b[0m in \u001b[0;36m__init__\u001b[0;34m(self, left, right, how, on, left_on, right_on, left_index, right_index, sort, suffixes, indicator, validate)\u001b[0m\n\u001b[1;32m    792\u001b[0m             \u001b[0mleft_drop\u001b[0m\u001b[0;34m,\u001b[0m\u001b[0;34m\u001b[0m\u001b[0;34m\u001b[0m\u001b[0m\n\u001b[1;32m    793\u001b[0m             \u001b[0mright_drop\u001b[0m\u001b[0;34m,\u001b[0m\u001b[0;34m\u001b[0m\u001b[0;34m\u001b[0m\u001b[0m\n\u001b[0;32m--> 794\u001b[0;31m         ) = self._get_merge_keys()\n\u001b[0m\u001b[1;32m    795\u001b[0m \u001b[0;34m\u001b[0m\u001b[0m\n\u001b[1;32m    796\u001b[0m         \u001b[0;32mif\u001b[0m \u001b[0mleft_drop\u001b[0m\u001b[0;34m:\u001b[0m\u001b[0;34m\u001b[0m\u001b[0;34m\u001b[0m\u001b[0m\n",
            "\u001b[0;32m/usr/local/lib/python3.11/dist-packages/pandas/core/reshape/merge.py\u001b[0m in \u001b[0;36m_get_merge_keys\u001b[0;34m(self)\u001b[0m\n\u001b[1;32m   1295\u001b[0m                         \u001b[0mrk\u001b[0m \u001b[0;34m=\u001b[0m \u001b[0mcast\u001b[0m\u001b[0;34m(\u001b[0m\u001b[0mHashable\u001b[0m\u001b[0;34m,\u001b[0m \u001b[0mrk\u001b[0m\u001b[0;34m)\u001b[0m\u001b[0;34m\u001b[0m\u001b[0;34m\u001b[0m\u001b[0m\n\u001b[1;32m   1296\u001b[0m                         \u001b[0;32mif\u001b[0m \u001b[0mrk\u001b[0m \u001b[0;32mis\u001b[0m \u001b[0;32mnot\u001b[0m \u001b[0;32mNone\u001b[0m\u001b[0;34m:\u001b[0m\u001b[0;34m\u001b[0m\u001b[0;34m\u001b[0m\u001b[0m\n\u001b[0;32m-> 1297\u001b[0;31m                             \u001b[0mright_keys\u001b[0m\u001b[0;34m.\u001b[0m\u001b[0mappend\u001b[0m\u001b[0;34m(\u001b[0m\u001b[0mright\u001b[0m\u001b[0;34m.\u001b[0m\u001b[0m_get_label_or_level_values\u001b[0m\u001b[0;34m(\u001b[0m\u001b[0mrk\u001b[0m\u001b[0;34m)\u001b[0m\u001b[0;34m)\u001b[0m\u001b[0;34m\u001b[0m\u001b[0;34m\u001b[0m\u001b[0m\n\u001b[0m\u001b[1;32m   1298\u001b[0m                         \u001b[0;32melse\u001b[0m\u001b[0;34m:\u001b[0m\u001b[0;34m\u001b[0m\u001b[0;34m\u001b[0m\u001b[0m\n\u001b[1;32m   1299\u001b[0m                             \u001b[0;31m# work-around for merge_asof(right_index=True)\u001b[0m\u001b[0;34m\u001b[0m\u001b[0;34m\u001b[0m\u001b[0m\n",
            "\u001b[0;32m/usr/local/lib/python3.11/dist-packages/pandas/core/generic.py\u001b[0m in \u001b[0;36m_get_label_or_level_values\u001b[0;34m(self, key, axis)\u001b[0m\n\u001b[1;32m   1909\u001b[0m             \u001b[0mvalues\u001b[0m \u001b[0;34m=\u001b[0m \u001b[0mself\u001b[0m\u001b[0;34m.\u001b[0m\u001b[0maxes\u001b[0m\u001b[0;34m[\u001b[0m\u001b[0maxis\u001b[0m\u001b[0;34m]\u001b[0m\u001b[0;34m.\u001b[0m\u001b[0mget_level_values\u001b[0m\u001b[0;34m(\u001b[0m\u001b[0mkey\u001b[0m\u001b[0;34m)\u001b[0m\u001b[0;34m.\u001b[0m\u001b[0m_values\u001b[0m\u001b[0;34m\u001b[0m\u001b[0;34m\u001b[0m\u001b[0m\n\u001b[1;32m   1910\u001b[0m         \u001b[0;32melse\u001b[0m\u001b[0;34m:\u001b[0m\u001b[0;34m\u001b[0m\u001b[0;34m\u001b[0m\u001b[0m\n\u001b[0;32m-> 1911\u001b[0;31m             \u001b[0;32mraise\u001b[0m \u001b[0mKeyError\u001b[0m\u001b[0;34m(\u001b[0m\u001b[0mkey\u001b[0m\u001b[0;34m)\u001b[0m\u001b[0;34m\u001b[0m\u001b[0;34m\u001b[0m\u001b[0m\n\u001b[0m\u001b[1;32m   1912\u001b[0m \u001b[0;34m\u001b[0m\u001b[0m\n\u001b[1;32m   1913\u001b[0m         \u001b[0;31m# Check for duplicates\u001b[0m\u001b[0;34m\u001b[0m\u001b[0;34m\u001b[0m\u001b[0m\n",
            "\u001b[0;31mKeyError\u001b[0m: 'ContactId'"
          ]
        }
      ]
    },
    {
      "cell_type": "code",
      "source": [
        "# 3️⃣ Renombrar columnas para facilitar la unión\n",
        "df_fichas_crm = df_fichas_crm.rename(columns={\n",
        "    'Data/hora inici': 'createdAt',\n",
        "    'Data/hora final': 'updatedAt',\n",
        "    'Número de teléfono de l’usuari': 'ContactId'\n",
        "})\n",
        "\n",
        "# 4️⃣ Convertir fechas a formato datetime para evitar problemas de tipo de datos\n",
        "df_merged1['createdAt'] = pd.to_datetime(df_merged1['createdAt'])\n",
        "df_merged1['updatedAt'] = pd.to_datetime(df_merged1['updatedAt'])\n",
        "df_fichas_crm['createdAt'] = pd.to_datetime(df_fichas_crm['createdAt'])\n",
        "df_fichas_crm['updatedAt'] = pd.to_datetime(df_fichas_crm['updatedAt'])\n",
        "\n",
        "# 5️⃣ Hacer el LEFT JOIN\n",
        "df_final = pd.merge(\n",
        "    df_merged1,\n",
        "    df_fichas_crm,\n",
        "    how='left',\n",
        "    on=['createdAt', 'updatedAt', 'ContactId']\n",
        ")\n",
        "\n",
        "# 6️⃣ Guardar el nuevo resultado en un CSV\n",
        "df_final.to_csv('resultado_final.csv', index=False)\n",
        "\n",
        "# 7️⃣ Verificar las primeras filas para revisar que el JOIN se hizo correctamente\n",
        "print(df_final.head())\n"
      ],
      "metadata": {
        "id": "nsl3zDNBZQBH"
      },
      "execution_count": null,
      "outputs": []
    }
  ]
}