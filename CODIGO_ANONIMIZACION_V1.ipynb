{
  "nbformat": 4,
  "nbformat_minor": 0,
  "metadata": {
    "colab": {
      "provenance": [],
      "authorship_tag": "ABX9TyP/sZfwbNRTm3CnH5sWZTIs",
      "include_colab_link": true
    },
    "kernelspec": {
      "name": "python3",
      "display_name": "Python 3"
    },
    "language_info": {
      "name": "python"
    }
  },
  "cells": [
    {
      "cell_type": "markdown",
      "metadata": {
        "id": "view-in-github",
        "colab_type": "text"
      },
      "source": [
        "<a href=\"https://colab.research.google.com/github/IgnasiOliveras/anonimitzar/blob/main/CODIGO_ANONIMIZACION_V1.ipynb\" target=\"_parent\"><img src=\"https://colab.research.google.com/assets/colab-badge.svg\" alt=\"Open In Colab\"/></a>"
      ]
    },
    {
      "cell_type": "code",
      "execution_count": null,
      "metadata": {
        "colab": {
          "base_uri": "https://localhost:8080/",
          "height": 507
        },
        "id": "sT222HH8ZGCh",
        "outputId": "0a4c3000-a26d-43d7-eb2d-b32938ad598f"
      },
      "outputs": [
        {
          "output_type": "stream",
          "name": "stdout",
          "text": [
            "Requirement already satisfied: transformers in /usr/local/lib/python3.10/dist-packages (4.46.3)\n",
            "Requirement already satisfied: filelock in /usr/local/lib/python3.10/dist-packages (from transformers) (3.16.1)\n",
            "Requirement already satisfied: huggingface-hub<1.0,>=0.23.2 in /usr/local/lib/python3.10/dist-packages (from transformers) (0.26.3)\n",
            "Requirement already satisfied: numpy>=1.17 in /usr/local/lib/python3.10/dist-packages (from transformers) (1.26.4)\n",
            "Requirement already satisfied: packaging>=20.0 in /usr/local/lib/python3.10/dist-packages (from transformers) (24.2)\n",
            "Requirement already satisfied: pyyaml>=5.1 in /usr/local/lib/python3.10/dist-packages (from transformers) (6.0.2)\n",
            "Requirement already satisfied: regex!=2019.12.17 in /usr/local/lib/python3.10/dist-packages (from transformers) (2024.9.11)\n",
            "Requirement already satisfied: requests in /usr/local/lib/python3.10/dist-packages (from transformers) (2.32.3)\n",
            "Requirement already satisfied: tokenizers<0.21,>=0.20 in /usr/local/lib/python3.10/dist-packages (from transformers) (0.20.3)\n",
            "Requirement already satisfied: safetensors>=0.4.1 in /usr/local/lib/python3.10/dist-packages (from transformers) (0.4.5)\n",
            "Requirement already satisfied: tqdm>=4.27 in /usr/local/lib/python3.10/dist-packages (from transformers) (4.66.6)\n",
            "Requirement already satisfied: fsspec>=2023.5.0 in /usr/local/lib/python3.10/dist-packages (from huggingface-hub<1.0,>=0.23.2->transformers) (2024.10.0)\n",
            "Requirement already satisfied: typing-extensions>=3.7.4.3 in /usr/local/lib/python3.10/dist-packages (from huggingface-hub<1.0,>=0.23.2->transformers) (4.12.2)\n",
            "Requirement already satisfied: charset-normalizer<4,>=2 in /usr/local/lib/python3.10/dist-packages (from requests->transformers) (3.4.0)\n",
            "Requirement already satisfied: idna<4,>=2.5 in /usr/local/lib/python3.10/dist-packages (from requests->transformers) (3.10)\n",
            "Requirement already satisfied: urllib3<3,>=1.21.1 in /usr/local/lib/python3.10/dist-packages (from requests->transformers) (2.2.3)\n",
            "Requirement already satisfied: certifi>=2017.4.17 in /usr/local/lib/python3.10/dist-packages (from requests->transformers) (2024.8.30)\n",
            "Requirement already satisfied: faker in /usr/local/lib/python3.10/dist-packages (33.1.0)\n",
            "Requirement already satisfied: python-dateutil>=2.4 in /usr/local/lib/python3.10/dist-packages (from faker) (2.8.2)\n",
            "Requirement already satisfied: typing-extensions in /usr/local/lib/python3.10/dist-packages (from faker) (4.12.2)\n",
            "Requirement already satisfied: six>=1.5 in /usr/local/lib/python3.10/dist-packages (from python-dateutil>=2.4->faker) (1.16.0)\n",
            "Requirement already satisfied: gender-guesser in /usr/local/lib/python3.10/dist-packages (0.4.0)\n"
          ]
        },
        {
          "output_type": "stream",
          "name": "stderr",
          "text": [
            "Some weights of the model checkpoint at mrm8488/bert-spanish-cased-finetuned-ner were not used when initializing BertForTokenClassification: ['bert.pooler.dense.bias', 'bert.pooler.dense.weight']\n",
            "- This IS expected if you are initializing BertForTokenClassification from the checkpoint of a model trained on another task or with another architecture (e.g. initializing a BertForSequenceClassification model from a BertForPreTraining model).\n",
            "- This IS NOT expected if you are initializing BertForTokenClassification from the checkpoint of a model that you expect to be exactly identical (initializing a BertForSequenceClassification model from a BertForSequenceClassification model).\n",
            "Asking to truncate to max_length but no maximum length is provided and the model has no predefined maximum length. Default to no truncation.\n"
          ]
        },
        {
          "output_type": "execute_result",
          "data": {
            "text/plain": [
              "'/content/texto_anonimizado_unico.csv'"
            ],
            "application/vnd.google.colaboratory.intrinsic+json": {
              "type": "string"
            }
          },
          "metadata": {},
          "execution_count": 3
        }
      ],
      "source": [
        "# Librerías necesarias\n",
        "!pip install transformers\n",
        "!pip install faker\n",
        "!pip install gender-guesser\n",
        "\n",
        "import pandas as pd\n",
        "from transformers import pipeline\n",
        "from faker import Faker\n",
        "import gender_guesser.detector as gender\n",
        "import unicodedata\n",
        "import string\n",
        "import re\n",
        "\n",
        "# Inicializar Faker para español y el detector de género\n",
        "fake = Faker('es_ES')\n",
        "gender_detector = gender.Detector()\n",
        "\n",
        "# Cargar el modelo de Hugging Face para NER en español con estrategia de agregación (BERT)\n",
        "ner_model = pipeline(\"ner\", model=\"mrm8488/bert-spanish-cased-finetuned-ner\", aggregation_strategy=\"simple\")\n",
        "\n",
        "# Función para eliminar acentos y caracteres especiales\n",
        "def eliminar_acentos_y_puntuacion(texto):\n",
        "    texto_sin_acentos = ''.join(c for c in unicodedata.normalize('NFD', texto) if unicodedata.category(c) != 'Mn')\n",
        "    return texto_sin_acentos.translate(str.maketrans('', '', string.punctuation))\n",
        "\n",
        "# Función para generar un nombre falso manteniendo el género para personas (PER)\n",
        "def get_gendered_fake_name(original_name):\n",
        "    first_name = original_name.split()[0]\n",
        "    detected_gender = gender_detector.get_gender(first_name)\n",
        "    if detected_gender in ['male', 'mostly_male']:\n",
        "        return fake.first_name_male()\n",
        "    elif detected_gender in ['female', 'mostly_female']:\n",
        "        return fake.first_name_female()\n",
        "    else:\n",
        "        return fake.first_name()\n",
        "\n",
        "# Función para anonimizar números de teléfono\n",
        "def anonimizar_telefono(texto):\n",
        "    # Busca patrones comunes de números de teléfono\n",
        "    return re.sub(r'\\b\\d{9}\\b', lambda x: fake.phone_number(), texto)\n",
        "\n",
        "# Función para anonimizar DNI\n",
        "def anonimizar_dni(texto):\n",
        "    # Busca patrones comunes de DNI en España (8 dígitos seguidos de una letra)\n",
        "    return re.sub(r'\\b\\d{8}[A-Za-z]\\b', lambda x: fake.ssn(), texto)\n",
        "\n",
        "# Función principal para anonimizar el texto usando BERT y mantener consistencia en los nombres\n",
        "def anonimizar_texto(texto, entity_replacements):\n",
        "    texto_limpio = eliminar_acentos_y_puntuacion(texto)\n",
        "\n",
        "    # Anonimizar números de teléfono y DNI antes de procesar con NER\n",
        "    texto_limpio = anonimizar_telefono(texto_limpio)\n",
        "    texto_limpio = anonimizar_dni(texto_limpio)\n",
        "\n",
        "    # Identificar entidades con NER\n",
        "    entidades = ner_model(texto_limpio)\n",
        "\n",
        "    for ent in entidades:\n",
        "        label = ent['entity_group']\n",
        "        original_text = ent['word']\n",
        "\n",
        "        # Anonimización de personas\n",
        "        if label == \"PER\":\n",
        "            if original_text not in entity_replacements:\n",
        "                fake_name = get_gendered_fake_name(original_text)\n",
        "                entity_replacements[original_text] = fake_name\n",
        "            texto_limpio = texto_limpio.replace(original_text, entity_replacements[original_text])\n",
        "\n",
        "    return texto_limpio\n",
        "\n",
        "# Cargar el archivo CSV que contiene los chats\n",
        "df = pd.read_csv('/content/chat_s1.csv', encoding='latin1')\n",
        "\n",
        "# Diccionario para almacenar los reemplazos de entidades\n",
        "entity_replacements = {}\n",
        "\n",
        "# Aplicar la anonimización a cada fila del archivo\n",
        "df['Texto_anonimizado'] = df['Texto'].apply(lambda x: anonimizar_texto(x, entity_replacements))\n",
        "\n",
        "# Guardar el archivo completo con texto anonimizado\n",
        "file_path_anonimizado = \"/content/chats_psicologicos_anonimizados.csv\"\n",
        "df.to_csv(file_path_anonimizado, index=False)\n",
        "\n",
        "# Crear un nuevo archivo que solo incluya los textos anonimizados\n",
        "file_path_solo_anonimizado = \"/content/texto_anonimizado_unico.csv\"\n",
        "df[['Participante','Texto_anonimizado']].to_csv(file_path_solo_anonimizado, index=False)\n",
        "\n",
        "file_path_solo_anonimizado\n"
      ]
    }
  ]
}