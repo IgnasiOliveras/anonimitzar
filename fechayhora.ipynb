{
  "nbformat": 4,
  "nbformat_minor": 0,
  "metadata": {
    "colab": {
      "provenance": [],
      "authorship_tag": "ABX9TyO8bvC8Y3CitsqBzmbX7eKf",
      "include_colab_link": true
    },
    "kernelspec": {
      "name": "python3",
      "display_name": "Python 3"
    },
    "language_info": {
      "name": "python"
    }
  },
  "cells": [
    {
      "cell_type": "markdown",
      "metadata": {
        "id": "view-in-github",
        "colab_type": "text"
      },
      "source": [
        "<a href=\"https://colab.research.google.com/github/IgnasiOliveras/anonimitzar/blob/main/fechayhora.ipynb\" target=\"_parent\"><img src=\"https://colab.research.google.com/assets/colab-badge.svg\" alt=\"Open In Colab\"/></a>"
      ]
    },
    {
      "cell_type": "code",
      "execution_count": null,
      "metadata": {
        "id": "rDDtEshB0q9J"
      },
      "outputs": [],
      "source": [
        "df_principal = pd.read_excel('/content/30.01.25 Uic.xlsx', sheet_name='Export')\n",
        "\n",
        "import pandas as pd\n",
        "\n",
        "# Crear DataFrame de ejemplo\n",
        "data = {\"createdAt\": [\"24/02/2025 14:35:20\", \"24/02/2025 08:10:45\", \"25/02/2025 22:50:30\"]}\n",
        "df = pd.DataFrame(data)\n",
        "\n",
        "# Convertir a datetime\n",
        "df[\"createdAt\"] = pd.to_datetime(df[\"createdAt\"], format=\"%d/%m/%Y %H:%M:%S\")\n",
        "\n",
        "# Extraer solo la fecha en formato dd/mm/aaaa\n",
        "df[\"fecha\"] = df[\"createdAt\"].dt.strftime(\"%d/%m/%Y\")\n",
        "\n",
        "# Crear la columna de rango de horas\n",
        "df[\"rango_hora\"] = df[\"createdAt\"].dt.hour.astype(str).str.zfill(2) + \":00:00-\" + (df[\"createdAt\"].dt.hour + 1).astype(str).str.zfill(2) + \":00:00\"\n",
        "\n",
        "# Mostrar resultado\n",
        "print(df)\n"
      ]
    }
  ]
}